{
 "cells": [
  {
   "cell_type": "markdown",
   "metadata": {},
   "source": [
    "## Factorial of a number"
   ]
  },
  {
   "cell_type": "code",
   "execution_count": 1,
   "metadata": {},
   "outputs": [
    {
     "name": "stdout",
     "output_type": "stream",
     "text": [
      "4\n",
      "The factoiral of 4 is 24\n"
     ]
    }
   ],
   "source": [
    "def factorial(number):\n",
    "    \n",
    "    # base case\n",
    "    if number ==1:\n",
    "        return 1\n",
    "    # recursive case\n",
    "    else:\n",
    "        return number * factorial(number -1)\n",
    "number = int(input())\n",
    "result = factorial(number)\n",
    "print(\"The factoiral of \" + str(number) + \" is \" + str(result))"
   ]
  },
  {
   "cell_type": "markdown",
   "metadata": {},
   "source": [
    "## sum of number from 1 to n"
   ]
  },
  {
   "cell_type": "code",
   "execution_count": 3,
   "metadata": {},
   "outputs": [
    {
     "name": "stdout",
     "output_type": "stream",
     "text": [
      "4\n",
      "10\n"
     ]
    }
   ],
   "source": [
    "number = int(input())\n",
    "answer = (number *(number+1))//2   # n * (n+1)/2\n",
    "print(answer)"
   ]
  },
  {
   "cell_type": "code",
   "execution_count": 5,
   "metadata": {},
   "outputs": [
    {
     "name": "stdout",
     "output_type": "stream",
     "text": [
      "10\n"
     ]
    }
   ],
   "source": [
    "## using recursion\n",
    "\n",
    "def sum_n(number):\n",
    "    \n",
    "    # base case\n",
    "    if number ==0:\n",
    "        return 0\n",
    "    # induction hypothesis\n",
    "    else:\n",
    "        smalloutput = sum_n(number-1)\n",
    "        output = smalloutput + number\n",
    "    return output    \n",
    "print(sum_n(4))"
   ]
  },
  {
   "cell_type": "markdown",
   "metadata": {},
   "source": [
    "## Power Of A Number\n",
    "Write a program to find x to the power n (i.e. x^n). Take x and n from the user. You need to print the answer.\n",
    "Note : For this question, you can assume that 0 raised to the power of 0 is 1\n"
   ]
  },
  {
   "cell_type": "code",
   "execution_count": 7,
   "metadata": {},
   "outputs": [
    {
     "name": "stdout",
     "output_type": "stream",
     "text": [
      "27\n"
     ]
    }
   ],
   "source": [
    "def power(x,n):\n",
    "    # base case\n",
    "    if n ==0:\n",
    "        return 1\n",
    "    # induction hypothesis\n",
    "    else:\n",
    "        return x * power(x,n-1)\n",
    "answer = power(3,3)\n",
    "print(answer)\n",
    "    "
   ]
  },
  {
   "cell_type": "raw",
   "metadata": {},
   "source": [
    "Since we are making 6 recurive calls, it is propotional so  the time complexity will be O(n)"
   ]
  },
  {
   "cell_type": "code",
   "execution_count": 8,
   "metadata": {},
   "outputs": [],
   "source": [
    "## using Fast power algorithm,\n",
    "## where if n is even, x**n/2 * x**n/2\n",
    "## if n is odd then x * x(n-1)"
   ]
  },
  {
   "cell_type": "code",
   "execution_count": 13,
   "metadata": {},
   "outputs": [
    {
     "name": "stdout",
     "output_type": "stream",
     "text": [
      "27\n"
     ]
    }
   ],
   "source": [
    "def fast_power(number,exponent):\n",
    "    \n",
    "    # base case:\n",
    "    if exponent == 0:\n",
    "        return 1\n",
    "    # indcution hypothesis\n",
    "    elif (exponent % 2 == 0):\n",
    "        res = number * fast_power(number,exponent/2)\n",
    "        return res * res\n",
    "    else:\n",
    "        return number * pow(number,exponent-1)\n",
    "output = fast_power(3,3)\n",
    "print(output)"
   ]
  },
  {
   "cell_type": "markdown",
   "metadata": {},
   "source": [
    "### print First N natural Number either 1 to ..n  or n to ..1"
   ]
  },
  {
   "cell_type": "code",
   "execution_count": 14,
   "metadata": {
    "scrolled": true
   },
   "outputs": [
    {
     "name": "stdout",
     "output_type": "stream",
     "text": [
      "0\n",
      "1\n",
      "2\n",
      "3\n",
      "4\n",
      "5\n",
      "6\n",
      "7\n",
      "8\n",
      "9\n"
     ]
    }
   ],
   "source": [
    "for i in range(10):\n",
    "    print(i)"
   ]
  },
  {
   "cell_type": "code",
   "execution_count": 18,
   "metadata": {},
   "outputs": [
    {
     "name": "stdout",
     "output_type": "stream",
     "text": [
      "1\n",
      "2\n",
      "3\n",
      "4\n",
      "5\n"
     ]
    }
   ],
   "source": [
    "## using Recursion\n",
    "def print_1_to_n(number):\n",
    "    # base case:\n",
    "    if number ==0:\n",
    "        return\n",
    "    # indeuction hypothese\n",
    "    else:\n",
    "        print_1_to_n(number-1)\n",
    "        print(number)\n",
    "        return\n",
    "print_1_to_n(5)    "
   ]
  },
  {
   "cell_type": "code",
   "execution_count": 15,
   "metadata": {},
   "outputs": [
    {
     "name": "stdout",
     "output_type": "stream",
     "text": [
      "5\n",
      "4\n",
      "3\n",
      "2\n",
      "1\n"
     ]
    }
   ],
   "source": [
    "\n",
    "def print_1_to_n(number):\n",
    "    # base case:\n",
    "    if number ==0:\n",
    "        return\n",
    "    # indeuction hypothese\n",
    "    else:\n",
    "        print(number)\n",
    "        print_1_to_n(number-1)\n",
    "        \n",
    "        return\n",
    "print_1_to_n(5)    "
   ]
  },
  {
   "cell_type": "markdown",
   "metadata": {},
   "source": [
    "## Fibonacci series"
   ]
  },
  {
   "cell_type": "code",
   "execution_count": 17,
   "metadata": {},
   "outputs": [
    {
     "name": "stdout",
     "output_type": "stream",
     "text": [
      "23\n",
      "28657\n"
     ]
    }
   ],
   "source": [
    "import sys\n",
    "sys.setrecursionlimit(300)\n",
    "def fib(number):\n",
    "    \n",
    "    # base case\n",
    "    \n",
    "    if number <=1:\n",
    "        return number\n",
    "    \n",
    "    # induction hypothesis\n",
    "    else:\n",
    "        return fib(number-1) + fib(number-2)\n",
    "number = int(input())\n",
    "print(fib(number))"
   ]
  },
  {
   "cell_type": "code",
   "execution_count": 18,
   "metadata": {},
   "outputs": [
    {
     "name": "stdout",
     "output_type": "stream",
     "text": [
      "Enter the number40\n",
      "102334155\n"
     ]
    }
   ],
   "source": [
    "# The above approach is taking a lot of time when n = 40, thus we can do ...\n",
    "\n",
    "# by using memonization\n",
    "\n",
    "arr = [-1]*100\n",
    "def fib(n):\n",
    "    # base case\n",
    "    if n <= 1:\n",
    "        return n\n",
    "    else:\n",
    "        if (arr[n] !=-1):\n",
    "            return arr[n]\n",
    "        arr[n] = fib(n-1) + fib(n-2)\n",
    "        return arr[n]\n",
    "    \n",
    "    \n",
    "num = int(input(\"Enter the number\"))\n",
    "print(fib(num))"
   ]
  },
  {
   "cell_type": "markdown",
   "metadata": {},
   "source": [
    "## Reverse a string"
   ]
  },
  {
   "cell_type": "code",
   "execution_count": 9,
   "metadata": {},
   "outputs": [
    {
     "name": "stdout",
     "output_type": "stream",
     "text": [
      "tnahsiN"
     ]
    }
   ],
   "source": [
    "def reverse(str):\n",
    "    size = len(str)\n",
    "    \n",
    "    # base case\n",
    "    if size == 0:\n",
    "        return\n",
    "    # induction hypothesis\n",
    "    last_char = str[size-1]\n",
    "    print(last_char, end=\"\")\n",
    "    reverse(str[0:size-1])\n",
    "    \n",
    "reverse(\"Nishant\")"
   ]
  },
  {
   "cell_type": "code",
   "execution_count": null,
   "metadata": {},
   "outputs": [],
   "source": []
  }
 ],
 "metadata": {
  "kernelspec": {
   "display_name": "Python 3",
   "language": "python",
   "name": "python3"
  },
  "language_info": {
   "codemirror_mode": {
    "name": "ipython",
    "version": 3
   },
   "file_extension": ".py",
   "mimetype": "text/x-python",
   "name": "python",
   "nbconvert_exporter": "python",
   "pygments_lexer": "ipython3",
   "version": "3.7.4"
  }
 },
 "nbformat": 4,
 "nbformat_minor": 4
}
