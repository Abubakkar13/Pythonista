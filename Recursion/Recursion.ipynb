{
 "cells": [
  {
   "cell_type": "markdown",
   "metadata": {},
   "source": [
    "## Factorial of a number"
   ]
  },
  {
   "cell_type": "code",
   "execution_count": 1,
   "metadata": {},
   "outputs": [
    {
     "name": "stdout",
     "output_type": "stream",
     "text": [
      "4\n",
      "The factoiral of 4 is 24\n"
     ]
    }
   ],
   "source": [
    "def factorial(number):\n",
    "    \n",
    "    # base case\n",
    "    if number ==1:\n",
    "        return 1\n",
    "    # recursive case\n",
    "    else:\n",
    "        return number * factorial(number -1)\n",
    "number = int(input())\n",
    "result = factorial(number)\n",
    "print(\"The factoiral of \" + str(number) + \" is \" + str(result))"
   ]
  },
  {
   "cell_type": "markdown",
   "metadata": {},
   "source": [
    "## sum of number from 1 to n"
   ]
  },
  {
   "cell_type": "code",
   "execution_count": 3,
   "metadata": {},
   "outputs": [
    {
     "name": "stdout",
     "output_type": "stream",
     "text": [
      "4\n",
      "10\n"
     ]
    }
   ],
   "source": [
    "number = int(input())\n",
    "answer = (number *(number+1))//2   # n * (n+1)/2\n",
    "print(answer)"
   ]
  },
  {
   "cell_type": "code",
   "execution_count": 5,
   "metadata": {},
   "outputs": [
    {
     "name": "stdout",
     "output_type": "stream",
     "text": [
      "10\n"
     ]
    }
   ],
   "source": [
    "## using recursion\n",
    "\n",
    "def sum_n(number):\n",
    "    \n",
    "    # base case\n",
    "    if number ==0:\n",
    "        return 0\n",
    "    # induction hypothesis\n",
    "    else:\n",
    "        smalloutput = sum_n(number-1)\n",
    "        output = smalloutput + number\n",
    "    return output    \n",
    "print(sum_n(4))"
   ]
  },
  {
   "cell_type": "code",
   "execution_count": null,
   "metadata": {},
   "outputs": [],
   "source": []
  }
 ],
 "metadata": {
  "kernelspec": {
   "display_name": "Python 3",
   "language": "python",
   "name": "python3"
  },
  "language_info": {
   "codemirror_mode": {
    "name": "ipython",
    "version": 3
   },
   "file_extension": ".py",
   "mimetype": "text/x-python",
   "name": "python",
   "nbconvert_exporter": "python",
   "pygments_lexer": "ipython3",
   "version": "3.7.4"
  }
 },
 "nbformat": 4,
 "nbformat_minor": 4
}
