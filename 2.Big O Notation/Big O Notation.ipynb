{
 "cells": [
  {
   "cell_type": "code",
   "execution_count": 1,
   "metadata": {},
   "outputs": [
    {
     "name": "stdout",
     "output_type": "stream",
     "text": [
      "10\n"
     ]
    }
   ],
   "source": [
    "n = 10\n",
    "sum = 0\n",
    "for var in range(n):\n",
    "    sum = sum + 1\n",
    "print(sum)    \n"
   ]
  },
  {
   "cell_type": "code",
   "execution_count": 2,
   "metadata": {},
   "outputs": [
    {
     "name": "stdout",
     "output_type": "stream",
     "text": [
      "0\n",
      "1\n",
      "2\n",
      "3\n",
      "4\n",
      "5\n",
      "6\n",
      "7\n",
      "8\n",
      "9\n"
     ]
    }
   ],
   "source": [
    "for i in range(10):\n",
    "    print(i)"
   ]
  },
  {
   "cell_type": "code",
   "execution_count": 4,
   "metadata": {},
   "outputs": [
    {
     "name": "stdout",
     "output_type": "stream",
     "text": [
      "25\n"
     ]
    }
   ],
   "source": [
    "n =5\n",
    "sum =0\n",
    "for i in range(n):\n",
    "    for j in range(n):\n",
    "        sum = sum +1\n",
    "print(sum)        "
   ]
  },
  {
   "cell_type": "code",
   "execution_count": 1,
   "metadata": {},
   "outputs": [],
   "source": [
    "def mergesort(a):\n",
    "     # base case\n",
    "        \n",
    "        if len(a) ==0 or len(a) ==1:\n",
    "            return\n",
    "        mid = len(a)//2\n",
    "        a1=a[0:mid]\n",
    "        a2=a[mid:]\n",
    "        \n",
    "        mergesort(a1)\n",
    "        mergesort(a2)\n",
    "        \n",
    "        merge(a1,a2,a)\n",
    "def merge(a1,a2,a):\n",
    "    i=0\n",
    "    j=0\n",
    "    k=0\n",
    "    while i <len(a1) and j < len(a2):\n",
    "        if (a1[i] < a2[j]):\n",
    "            a[k] = a1[i]\n",
    "            i = i +1\n",
    "            k = k + 1\n",
    "        else:\n",
    "            a[k] = a2[j]\n",
    "            j = j +1\n",
    "            k = k +1\n",
    "            \n",
    "    while i <len(a1):\n",
    "        a[k] = a2[j]\n",
    "        j = j +1\n",
    "        k = k +1\n",
    "    while i <len(a2):\n",
    "        a[k] = a1[i]\n",
    "        i = i +1\n",
    "        k = k +1\n",
    "a=[7,8,9,3,4,6,1,2]\n",
    "a mergesort(a)\n",
    "print()\n",
    "            \n",
    "    "
   ]
  },
  {
   "cell_type": "code",
   "execution_count": null,
   "metadata": {},
   "outputs": [],
   "source": []
  }
 ],
 "metadata": {
  "kernelspec": {
   "display_name": "Python 3",
   "language": "python",
   "name": "python3"
  },
  "language_info": {
   "codemirror_mode": {
    "name": "ipython",
    "version": 3
   },
   "file_extension": ".py",
   "mimetype": "text/x-python",
   "name": "python",
   "nbconvert_exporter": "python",
   "pygments_lexer": "ipython3",
   "version": "3.7.4"
  }
 },
 "nbformat": 4,
 "nbformat_minor": 4
}
