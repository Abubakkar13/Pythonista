{
 "cells": [
  {
   "cell_type": "raw",
   "metadata": {},
   "source": [
    "class is just a template for defining objects. An object will have 2 things\n",
    "1) Functionalities\n",
    "2) Atrributes(data)\n",
    "\n",
    "Object is an instance of the class."
   ]
  },
  {
   "cell_type": "code",
   "execution_count": 1,
   "metadata": {},
   "outputs": [],
   "source": [
    "class Student:\n",
    "    pass\n",
    "# the pass keyword is telling python that let it be empty and we will look at this\n",
    "# later."
   ]
  },
  {
   "cell_type": "code",
   "execution_count": 5,
   "metadata": {},
   "outputs": [
    {
     "name": "stdout",
     "output_type": "stream",
     "text": [
      "<class '__main__.Student'>\n",
      "<class 'list'>\n",
      "<__main__.Student object at 0x7f1a75d91510>\n"
     ]
    }
   ],
   "source": [
    "s1 = Student()\n",
    "print(type(s1)) # when we create a student it's a student class\n",
    "l = list()\n",
    "print(type(l)) # when we create a list,it will tell a list class\n",
    "print(s1)"
   ]
  },
  {
   "cell_type": "markdown",
   "metadata": {},
   "source": [
    "## Attributes"
   ]
  },
  {
   "cell_type": "code",
   "execution_count": 12,
   "metadata": {},
   "outputs": [
    {
     "data": {
      "text/plain": [
       "{'name': 'Nishant', 'roll': 23, 'department': 'CSE'}"
      ]
     },
     "execution_count": 12,
     "metadata": {},
     "output_type": "execute_result"
    }
   ],
   "source": [
    "s1.name =\"Nishant\"\n",
    "s1.roll = 23\n",
    "s1.department = \"CSE\"\n",
    "\n",
    "# To see what attributes a particular object has\n",
    "s1.__dict__\n",
    "\n"
   ]
  },
  {
   "cell_type": "markdown",
   "metadata": {},
   "source": [
    "Thus the synatax for adding a attribute is:\n",
    "\n",
    "object.key = value"
   ]
  },
  {
   "cell_type": "markdown",
   "metadata": {},
   "source": [
    "We have a function caleed has attribute to which we need to pass the object,which takes 2 \n",
    "arguments the object and the key"
   ]
  },
  {
   "cell_type": "code",
   "execution_count": 14,
   "metadata": {},
   "outputs": [
    {
     "data": {
      "text/plain": [
       "True"
      ]
     },
     "execution_count": 14,
     "metadata": {},
     "output_type": "execute_result"
    }
   ],
   "source": [
    "hasattr(s1,\"name\")"
   ]
  },
  {
   "cell_type": "code",
   "execution_count": 15,
   "metadata": {},
   "outputs": [
    {
     "data": {
      "text/plain": [
       "False"
      ]
     },
     "execution_count": 15,
     "metadata": {},
     "output_type": "execute_result"
    }
   ],
   "source": [
    "hasattr(s1,\"rollno\")"
   ]
  },
  {
   "cell_type": "code",
   "execution_count": 16,
   "metadata": {},
   "outputs": [
    {
     "data": {
      "text/plain": [
       "{'name': 'Nishant', 'roll': 23, 'department': 'CSE'}"
      ]
     },
     "execution_count": 16,
     "metadata": {},
     "output_type": "execute_result"
    }
   ],
   "source": [
    "s1.__dict__"
   ]
  },
  {
   "cell_type": "code",
   "execution_count": 18,
   "metadata": {},
   "outputs": [
    {
     "data": {
      "text/plain": [
       "True"
      ]
     },
     "execution_count": 18,
     "metadata": {},
     "output_type": "execute_result"
    }
   ],
   "source": [
    "hasattr(s1,'roll')"
   ]
  },
  {
   "cell_type": "markdown",
   "metadata": {},
   "source": [
    "Similarly we have get attribute whcih takes object and the key respectively\n"
   ]
  },
  {
   "cell_type": "code",
   "execution_count": 19,
   "metadata": {},
   "outputs": [
    {
     "data": {
      "text/plain": [
       "23"
      ]
     },
     "execution_count": 19,
     "metadata": {},
     "output_type": "execute_result"
    }
   ],
   "source": [
    "getattr(s1,\"roll\")"
   ]
  },
  {
   "cell_type": "code",
   "execution_count": 20,
   "metadata": {},
   "outputs": [
    {
     "data": {
      "text/plain": [
       "'Nishant'"
      ]
     },
     "execution_count": 20,
     "metadata": {},
     "output_type": "execute_result"
    }
   ],
   "source": [
    "getattr(s1,\"name\")"
   ]
  },
  {
   "cell_type": "code",
   "execution_count": 21,
   "metadata": {},
   "outputs": [
    {
     "ename": "AttributeError",
     "evalue": "'Student' object has no attribute 'kam'",
     "output_type": "error",
     "traceback": [
      "\u001b[0;31m---------------------------------------------------------------------------\u001b[0m",
      "\u001b[0;31mAttributeError\u001b[0m                            Traceback (most recent call last)",
      "\u001b[0;32m<ipython-input-21-52a017008c8b>\u001b[0m in \u001b[0;36m<module>\u001b[0;34m\u001b[0m\n\u001b[1;32m      1\u001b[0m \u001b[0;31m# if the attribute doesnot exist we will get an error\u001b[0m\u001b[0;34m\u001b[0m\u001b[0;34m\u001b[0m\u001b[0;34m\u001b[0m\u001b[0m\n\u001b[0;32m----> 2\u001b[0;31m \u001b[0mgetattr\u001b[0m\u001b[0;34m(\u001b[0m\u001b[0ms1\u001b[0m\u001b[0;34m,\u001b[0m\u001b[0;34m\"kam\"\u001b[0m\u001b[0;34m)\u001b[0m\u001b[0;34m\u001b[0m\u001b[0;34m\u001b[0m\u001b[0m\n\u001b[0m",
      "\u001b[0;31mAttributeError\u001b[0m: 'Student' object has no attribute 'kam'"
     ]
    }
   ],
   "source": [
    "# if the attribute doesnot exist we will get an error\n",
    "getattr(s1,\"kam\")"
   ]
  },
  {
   "cell_type": "raw",
   "metadata": {},
   "source": [
    "The getattribute has also a default value 3 arguments, that is if that doesnot exist \n",
    "we will go to the next one and get the value"
   ]
  },
  {
   "cell_type": "code",
   "execution_count": 24,
   "metadata": {},
   "outputs": [
    {
     "data": {
      "text/plain": [
       "'Nishant'"
      ]
     },
     "execution_count": 24,
     "metadata": {},
     "output_type": "execute_result"
    }
   ],
   "source": [
    "getattr(s1,\"name\",\"jam\") # here the attribute jam is not present"
   ]
  },
  {
   "cell_type": "markdown",
   "metadata": {},
   "source": [
    "We have another attribute called the delete attribute which will delete the particular\n",
    "attribute from the object"
   ]
  },
  {
   "cell_type": "code",
   "execution_count": 25,
   "metadata": {},
   "outputs": [],
   "source": [
    "delattr(s1,\"roll\")"
   ]
  },
  {
   "cell_type": "code",
   "execution_count": 29,
   "metadata": {},
   "outputs": [
    {
     "data": {
      "text/plain": [
       "{'name': 'Nishant', 'department': 'CSE'}"
      ]
     },
     "execution_count": 29,
     "metadata": {},
     "output_type": "execute_result"
    }
   ],
   "source": [
    "s1.__dict__ # here the roll attribute has been deleted"
   ]
  },
  {
   "cell_type": "markdown",
   "metadata": {},
   "source": [
    "# class Atrribute and object attributes"
   ]
  },
  {
   "cell_type": "raw",
   "metadata": {},
   "source": [
    "suppose a class atrribute has pp = 80, and we define a instance atrtribute s1.pp =70\n",
    "this will first go to the instance attribute and will print this. If this has no\n",
    "instance attribute then only class attribute will be printed.\n",
    "\n",
    "If s2.pp has no instance attribute pp then it will go to the class attribute and\n",
    "will print s2.pp =70\n",
    "\n",
    "Instance attribute are attribute of particaular instances they can be different for \n",
    "different diffrerent instances"
   ]
  },
  {
   "cell_type": "code",
   "execution_count": 32,
   "metadata": {},
   "outputs": [
    {
     "name": "stdout",
     "output_type": "stream",
     "text": [
      "Rohan Rohan "
     ]
    }
   ],
   "source": [
    "# Predict the output\n",
    "\n",
    "class Student:\n",
    "     name = \"Rohan\"\n",
    "     age = 16\n",
    "s1 = Student()\n",
    "s2 = Student()\n",
    "print(s1.name,end=\" \")\n",
    "print(s2.name,end=\" \")"
   ]
  },
  {
   "cell_type": "code",
   "execution_count": 34,
   "metadata": {},
   "outputs": [
    {
     "name": "stdout",
     "output_type": "stream",
     "text": [
      "58\n"
     ]
    }
   ],
   "source": [
    "# predict the output\n",
    "\n",
    "class Student:\n",
    "    pp = 50\n",
    "\n",
    "s1 = Student()\n",
    "s1.pp= 58 # as mentioned in the above notes\n",
    "s2 = Student()\n",
    "s2.pp = 60\n",
    "print(s1.pp)"
   ]
  },
  {
   "cell_type": "markdown",
   "metadata": {},
   "source": [
    "# Self parameter"
   ]
  },
  {
   "cell_type": "code",
   "execution_count": 36,
   "metadata": {},
   "outputs": [
    {
     "ename": "TypeError",
     "evalue": "StudentClass() takes 0 positional arguments but 1 was given",
     "output_type": "error",
     "traceback": [
      "\u001b[0;31m---------------------------------------------------------------------------\u001b[0m",
      "\u001b[0;31mTypeError\u001b[0m                                 Traceback (most recent call last)",
      "\u001b[0;32m<ipython-input-36-099d1538895f>\u001b[0m in \u001b[0;36m<module>\u001b[0;34m\u001b[0m\n\u001b[1;32m      4\u001b[0m         \u001b[0;32mpass\u001b[0m\u001b[0;34m\u001b[0m\u001b[0;34m\u001b[0m\u001b[0m\n\u001b[1;32m      5\u001b[0m \u001b[0ms1\u001b[0m \u001b[0;34m=\u001b[0m \u001b[0mStudent\u001b[0m\u001b[0;34m(\u001b[0m\u001b[0;34m)\u001b[0m\u001b[0;34m\u001b[0m\u001b[0;34m\u001b[0m\u001b[0m\n\u001b[0;32m----> 6\u001b[0;31m \u001b[0ms1\u001b[0m\u001b[0;34m.\u001b[0m\u001b[0mStudentClass\u001b[0m\u001b[0;34m(\u001b[0m\u001b[0;34m)\u001b[0m\u001b[0;34m\u001b[0m\u001b[0;34m\u001b[0m\u001b[0m\n\u001b[0m",
      "\u001b[0;31mTypeError\u001b[0m: StudentClass() takes 0 positional arguments but 1 was given"
     ]
    }
   ],
   "source": [
    "class Student:\n",
    "    \n",
    "    def StudentClass():\n",
    "        pass       \n",
    "s1 = Student()\n",
    "s1.StudentClass()"
   ]
  },
  {
   "cell_type": "markdown",
   "metadata": {},
   "source": [
    "The above error shown in the s1.Studentclass() is mainly due to python treats this as:\n",
    "Student.StudentClass(s1)\n",
    "## classname.function(object_name)\n",
    "\n",
    "Thus it has to recive an objectname that needs to be passed and by convention it is \n",
    "### self\n",
    "self means for which the function is called, whatever object is passed will be stored in self.\n",
    "For an object we should have an instance attribute ie. self.object_name = value"
   ]
  },
  {
   "cell_type": "code",
   "execution_count": 43,
   "metadata": {},
   "outputs": [
    {
     "name": "stdout",
     "output_type": "stream",
     "text": [
      "Nishant\n",
      "Percentage =  78\n"
     ]
    },
    {
     "ename": "NameError",
     "evalue": "name 'percentage' is not defined",
     "output_type": "error",
     "traceback": [
      "\u001b[0;31m---------------------------------------------------------------------------\u001b[0m",
      "\u001b[0;31mNameError\u001b[0m                                 Traceback (most recent call last)",
      "\u001b[0;32m<ipython-input-43-15136825a086>\u001b[0m in \u001b[0;36m<module>\u001b[0;34m\u001b[0m\n\u001b[1;32m     18\u001b[0m \u001b[0ms1\u001b[0m \u001b[0;34m=\u001b[0m \u001b[0mStudent\u001b[0m\u001b[0;34m(\u001b[0m\u001b[0;34m)\u001b[0m\u001b[0;34m\u001b[0m\u001b[0;34m\u001b[0m\u001b[0m\n\u001b[1;32m     19\u001b[0m \u001b[0ms1\u001b[0m\u001b[0;34m.\u001b[0m\u001b[0mStudentDetails\u001b[0m\u001b[0;34m(\u001b[0m\u001b[0;34m)\u001b[0m\u001b[0;34m\u001b[0m\u001b[0;34m\u001b[0m\u001b[0m\n\u001b[0;32m---> 20\u001b[0;31m \u001b[0ms1\u001b[0m\u001b[0;34m.\u001b[0m\u001b[0misPassed\u001b[0m\u001b[0;34m(\u001b[0m\u001b[0;34m)\u001b[0m\u001b[0;34m\u001b[0m\u001b[0;34m\u001b[0m\u001b[0m\n\u001b[0m",
      "\u001b[0;32m<ipython-input-43-15136825a086>\u001b[0m in \u001b[0;36misPassed\u001b[0;34m(self)\u001b[0m\n\u001b[1;32m     10\u001b[0m \u001b[0;34m\u001b[0m\u001b[0m\n\u001b[1;32m     11\u001b[0m     \u001b[0;32mdef\u001b[0m \u001b[0misPassed\u001b[0m\u001b[0;34m(\u001b[0m\u001b[0mself\u001b[0m\u001b[0;34m)\u001b[0m\u001b[0;34m:\u001b[0m\u001b[0;34m\u001b[0m\u001b[0;34m\u001b[0m\u001b[0m\n\u001b[0;32m---> 12\u001b[0;31m         \u001b[0;32mif\u001b[0m \u001b[0mpercentage\u001b[0m \u001b[0;34m>\u001b[0m \u001b[0mStudnet\u001b[0m\u001b[0;34m.\u001b[0m\u001b[0mpassingPercentage\u001b[0m\u001b[0;34m:\u001b[0m\u001b[0;34m\u001b[0m\u001b[0;34m\u001b[0m\u001b[0m\n\u001b[0m\u001b[1;32m     13\u001b[0m             \u001b[0mprint\u001b[0m\u001b[0;34m(\u001b[0m\u001b[0;34m\"studnet is passed\"\u001b[0m\u001b[0;34m)\u001b[0m\u001b[0;34m\u001b[0m\u001b[0;34m\u001b[0m\u001b[0m\n\u001b[1;32m     14\u001b[0m         \u001b[0;32melse\u001b[0m\u001b[0;34m:\u001b[0m\u001b[0;34m\u001b[0m\u001b[0;34m\u001b[0m\u001b[0m\n",
      "\u001b[0;31mNameError\u001b[0m: name 'percentage' is not defined"
     ]
    }
   ],
   "source": [
    "class Student:\n",
    "    passingPercentage = 40\n",
    "    \n",
    "    def StudentDetails(self):\n",
    "        self.name = \"Nishant\"\n",
    "        print(self.name)\n",
    "        percentage = 78\n",
    "        print(\"Percentage = \", percentage)\n",
    "        \n",
    "        \n",
    "    def isPassed(self):\n",
    "        if percentage > Studnet.passingPercentage:\n",
    "            print(\"studnet is passed\")\n",
    "        else:\n",
    "            print(\"student is not passed\")\n",
    "        \n",
    "        \n",
    "s1 = Student()\n",
    "s1.StudentDetails()\n",
    "s1.isPassed()"
   ]
  },
  {
   "cell_type": "markdown",
   "metadata": {},
   "source": [
    "?? What is the diffrence between self.name and only percentage"
   ]
  },
  {
   "cell_type": "markdown",
   "metadata": {},
   "source": [
    "The self.name is an instance attribute, percentage is an attribute which is accessible \n",
    "inside the function,\n",
    "self.name attribute is accrsssible till life span of this instnce that is till s1 is there.\n",
    "\n",
    "The arrtibute percentage has not been global it has been local and to make it an instnace\n",
    "attribute we need to make it self.percentage then it will work,]\n"
   ]
  },
  {
   "cell_type": "code",
   "execution_count": 46,
   "metadata": {},
   "outputs": [
    {
     "name": "stdout",
     "output_type": "stream",
     "text": [
      "Nishant\n",
      "Percentage =  78\n",
      "studnet is passed\n"
     ]
    }
   ],
   "source": [
    "class Student:\n",
    "    passingPercentage = 40\n",
    "    \n",
    "    def StudentDetails(self):\n",
    "        self.name = \"Nishant\"\n",
    "        print(self.name)\n",
    "        self.percentage = 78\n",
    "        print(\"Percentage = \", self.percentage)\n",
    "        \n",
    "        \n",
    "    def isPassed(self):\n",
    "        if self.percentage > Student.passingPercentage:\n",
    "            print(\"studnet is passed\")\n",
    "        else:\n",
    "            print(\"student is not passed\")\n",
    "        \n",
    "        \n",
    "s1 = Student()\n",
    "s1.StudentDetails()\n",
    "s1.isPassed()"
   ]
  },
  {
   "cell_type": "code",
   "execution_count": 48,
   "metadata": {},
   "outputs": [
    {
     "name": "stdout",
     "output_type": "stream",
     "text": [
      "Parikh 60\n"
     ]
    }
   ],
   "source": [
    "# predict the output\n",
    "\n",
    "class Student:\n",
    "    name = \"Parikh\"\n",
    "    def store_details(self):\n",
    "        self.age = 60\n",
    "    def print_details(self):\n",
    "        print(self.name, end=\" \")\n",
    "        print(self.age)\n",
    "s = Student()\n",
    "s.store_details()\n",
    "s.print_details()"
   ]
  },
  {
   "cell_type": "code",
   "execution_count": 53,
   "metadata": {},
   "outputs": [
    {
     "ename": "AttributeError",
     "evalue": "'Student' object has no attribute 'age'",
     "output_type": "error",
     "traceback": [
      "\u001b[0;31m---------------------------------------------------------------------------\u001b[0m",
      "\u001b[0;31mAttributeError\u001b[0m                            Traceback (most recent call last)",
      "\u001b[0;32m<ipython-input-53-673147ce52f1>\u001b[0m in \u001b[0;36m<module>\u001b[0;34m\u001b[0m\n\u001b[1;32m      9\u001b[0m \u001b[0ms\u001b[0m\u001b[0;34m.\u001b[0m\u001b[0mstore_details\u001b[0m\u001b[0;34m(\u001b[0m\u001b[0;34m)\u001b[0m\u001b[0;34m\u001b[0m\u001b[0;34m\u001b[0m\u001b[0m\n\u001b[1;32m     10\u001b[0m \u001b[0ms1\u001b[0m \u001b[0;34m=\u001b[0m \u001b[0mStudent\u001b[0m\u001b[0;34m(\u001b[0m\u001b[0;34m)\u001b[0m\u001b[0;34m\u001b[0m\u001b[0;34m\u001b[0m\u001b[0m\n\u001b[0;32m---> 11\u001b[0;31m \u001b[0ms1\u001b[0m\u001b[0;34m.\u001b[0m\u001b[0mprint_age\u001b[0m\u001b[0;34m(\u001b[0m\u001b[0;34m)\u001b[0m\u001b[0;34m\u001b[0m\u001b[0;34m\u001b[0m\u001b[0m\n\u001b[0m\u001b[1;32m     12\u001b[0m \u001b[0;34m\u001b[0m\u001b[0m\n\u001b[1;32m     13\u001b[0m \u001b[0;31m# error will give because in the function age we have no attribute called age\u001b[0m\u001b[0;34m\u001b[0m\u001b[0;34m\u001b[0m\u001b[0;34m\u001b[0m\u001b[0m\n",
      "\u001b[0;32m<ipython-input-53-673147ce52f1>\u001b[0m in \u001b[0;36mprint_age\u001b[0;34m(self)\u001b[0m\n\u001b[1;32m      5\u001b[0m         \u001b[0mself\u001b[0m\u001b[0;34m.\u001b[0m\u001b[0mage\u001b[0m \u001b[0;34m=\u001b[0m \u001b[0;36m60\u001b[0m\u001b[0;34m\u001b[0m\u001b[0;34m\u001b[0m\u001b[0m\n\u001b[1;32m      6\u001b[0m     \u001b[0;32mdef\u001b[0m \u001b[0mprint_age\u001b[0m\u001b[0;34m(\u001b[0m\u001b[0mself\u001b[0m\u001b[0;34m)\u001b[0m\u001b[0;34m:\u001b[0m\u001b[0;34m\u001b[0m\u001b[0;34m\u001b[0m\u001b[0m\n\u001b[0;32m----> 7\u001b[0;31m         \u001b[0mprint\u001b[0m\u001b[0;34m(\u001b[0m\u001b[0mself\u001b[0m\u001b[0;34m.\u001b[0m\u001b[0mage\u001b[0m\u001b[0;34m)\u001b[0m\u001b[0;34m\u001b[0m\u001b[0;34m\u001b[0m\u001b[0m\n\u001b[0m\u001b[1;32m      8\u001b[0m \u001b[0ms\u001b[0m \u001b[0;34m=\u001b[0m \u001b[0mStudent\u001b[0m\u001b[0;34m(\u001b[0m\u001b[0;34m)\u001b[0m\u001b[0;34m\u001b[0m\u001b[0;34m\u001b[0m\u001b[0m\n\u001b[1;32m      9\u001b[0m \u001b[0ms\u001b[0m\u001b[0;34m.\u001b[0m\u001b[0mstore_details\u001b[0m\u001b[0;34m(\u001b[0m\u001b[0;34m)\u001b[0m\u001b[0;34m\u001b[0m\u001b[0;34m\u001b[0m\u001b[0m\n",
      "\u001b[0;31mAttributeError\u001b[0m: 'Student' object has no attribute 'age'"
     ]
    }
   ],
   "source": [
    "# predict the output\n",
    "class Student:\n",
    "    name = \"Parikh\"\n",
    "    def store_details(self):\n",
    "        self.age = 60\n",
    "    def print_age(self):\n",
    "        print(self.age)\n",
    "s = Student()\n",
    "s.store_details()\n",
    "s1 = Student()\n",
    "s1.print_age()\n",
    "\n",
    "# error will give because in the function age we have no attribute called age"
   ]
  },
  {
   "cell_type": "markdown",
   "metadata": {},
   "source": [
    "# static method"
   ]
  },
  {
   "cell_type": "code",
   "execution_count": 1,
   "metadata": {},
   "outputs": [],
   "source": [
    "# instance methods are the methods in which the self keyword will be passed"
   ]
  },
  {
   "cell_type": "code",
   "execution_count": 3,
   "metadata": {},
   "outputs": [
    {
     "name": "stdout",
     "output_type": "stream",
     "text": [
      "Nishant\n",
      "Percentage =  78\n",
      "studnet is passed\n",
      "Hey welcome to school\n"
     ]
    }
   ],
   "source": [
    "class Student:\n",
    "    passingPercentage = 40\n",
    "    \n",
    "    def StudentDetails(self):\n",
    "        self.name = \"Nishant\"\n",
    "        print(self.name)\n",
    "        self.percentage = 78\n",
    "        print(\"Percentage = \", self.percentage)\n",
    "        \n",
    "        \n",
    "    def isPassed(self):\n",
    "        if self.percentage > Student.passingPercentage:\n",
    "            print(\"studnet is passed\")\n",
    "        else:\n",
    "            print(\"student is not passed\")\n",
    "            \n",
    "            \n",
    "    @staticmethod # this is a decorator , which will tell the function/ it will keep\n",
    "    # the function away from the object, it will stop the binding of an object\n",
    "    # , stop the by default passing self of an object\n",
    "    def welcometoschool(): # the self will be ignored due to decorator\n",
    "        print(\"Hey welcome to school\")\n",
    "        \n",
    "        \n",
    "s1 = Student()\n",
    "s1.StudentDetails()\n",
    "s1.isPassed()\n",
    "s1.welcometoschool()"
   ]
  },
  {
   "cell_type": "raw",
   "metadata": {},
   "source": [
    "A static method is also referred to as class method because it doesnot,/ not related \n",
    "to object"
   ]
  },
  {
   "cell_type": "markdown",
   "metadata": {},
   "source": [
    "# init method"
   ]
  },
  {
   "cell_type": "raw",
   "metadata": {},
   "source": [
    "once the object is created. for eg: s1 = student(), then that object is passed to the\n",
    "__init__ function within the class. init is perfect place to assign all the attributes"
   ]
  },
  {
   "cell_type": "code",
   "execution_count": 8,
   "metadata": {},
   "outputs": [],
   "source": [
    "class Kalu:\n",
    "    def __init__(self): # the object which is being created has been passed here\n",
    "        self.name=\"nishant\"\n",
    "        self.usn = 178\n",
    "        "
   ]
  },
  {
   "cell_type": "code",
   "execution_count": 9,
   "metadata": {},
   "outputs": [],
   "source": [
    "s1 = Kalu()"
   ]
  },
  {
   "cell_type": "code",
   "execution_count": 10,
   "metadata": {},
   "outputs": [
    {
     "data": {
      "text/plain": [
       "{'name': 'nishant', 'usn': 178}"
      ]
     },
     "execution_count": 10,
     "metadata": {},
     "output_type": "execute_result"
    }
   ],
   "source": [
    "s1.__dict__"
   ]
  },
  {
   "cell_type": "code",
   "execution_count": 12,
   "metadata": {},
   "outputs": [
    {
     "data": {
      "text/plain": [
       "{'name': 'nishant', 'usn': 178}"
      ]
     },
     "execution_count": 12,
     "metadata": {},
     "output_type": "execute_result"
    }
   ],
   "source": [
    "s2 = Kalu()\n",
    "s2.__dict__\n",
    "# 2 different objects having same attributes, but this is not nice ,.."
   ]
  },
  {
   "cell_type": "code",
   "execution_count": 16,
   "metadata": {},
   "outputs": [
    {
     "ename": "TypeError",
     "evalue": "__init__() takes 1 positional argument but 3 were given",
     "output_type": "error",
     "traceback": [
      "\u001b[0;31m---------------------------------------------------------------------------\u001b[0m",
      "\u001b[0;31mTypeError\u001b[0m                                 Traceback (most recent call last)",
      "\u001b[0;32m<ipython-input-16-2810e695841a>\u001b[0m in \u001b[0;36m<module>\u001b[0;34m\u001b[0m\n\u001b[0;32m----> 1\u001b[0;31m \u001b[0ms3\u001b[0m \u001b[0;34m=\u001b[0m \u001b[0mKalu\u001b[0m\u001b[0;34m(\u001b[0m\u001b[0;34m\"nis\"\u001b[0m\u001b[0;34m,\u001b[0m\u001b[0;36m19\u001b[0m\u001b[0;34m)\u001b[0m\u001b[0;34m\u001b[0m\u001b[0;34m\u001b[0m\u001b[0m\n\u001b[0m",
      "\u001b[0;31mTypeError\u001b[0m: __init__() takes 1 positional argument but 3 were given"
     ]
    }
   ],
   "source": [
    "s3 = Kalu(\"nis\",19)"
   ]
  },
  {
   "cell_type": "markdown",
   "metadata": {},
   "source": [
    "As we can see from the error, takes 1 postional argumetn but 3 were given \n",
    "this is beacuse one is the self ,, which has been counted and 2 given so in order\n",
    "to make things clear we can do:"
   ]
  },
  {
   "cell_type": "code",
   "execution_count": 17,
   "metadata": {},
   "outputs": [],
   "source": [
    "class Student1:\n",
    "    def __init__(self,name,rollnumber):\n",
    "        self.name = name\n",
    "        self.rollnumber = rollnumber\n",
    "        "
   ]
  },
  {
   "cell_type": "code",
   "execution_count": 19,
   "metadata": {},
   "outputs": [],
   "source": [
    "nis = Student1(\"nishant\",'1jv16cs023')"
   ]
  },
  {
   "cell_type": "code",
   "execution_count": 20,
   "metadata": {},
   "outputs": [
    {
     "data": {
      "text/plain": [
       "{'name': 'nishant', 'rollnumber': '1jv16cs023'}"
      ]
     },
     "execution_count": 20,
     "metadata": {},
     "output_type": "execute_result"
    }
   ],
   "source": [
    "nis.__dict__"
   ]
  },
  {
   "cell_type": "code",
   "execution_count": 21,
   "metadata": {},
   "outputs": [],
   "source": [
    "kis = Student1(\"sippy\",123)"
   ]
  },
  {
   "cell_type": "code",
   "execution_count": 22,
   "metadata": {},
   "outputs": [
    {
     "data": {
      "text/plain": [
       "{'name': 'sippy', 'rollnumber': 123}"
      ]
     },
     "execution_count": 22,
     "metadata": {},
     "output_type": "execute_result"
    }
   ],
   "source": [
    "kis.__dict__"
   ]
  },
  {
   "cell_type": "code",
   "execution_count": 23,
   "metadata": {},
   "outputs": [
    {
     "data": {
      "text/plain": [
       "(<__main__.Student1 at 0x7f236fca5ad0>, <__main__.Student1 at 0x7f236fb41c90>)"
      ]
     },
     "execution_count": 23,
     "metadata": {},
     "output_type": "execute_result"
    }
   ],
   "source": [
    "nis, kis\n"
   ]
  },
  {
   "cell_type": "code",
   "execution_count": 25,
   "metadata": {},
   "outputs": [
    {
     "ename": "TypeError",
     "evalue": "__init__() missing 2 required positional arguments: 'name' and 'age'",
     "output_type": "error",
     "traceback": [
      "\u001b[0;31m---------------------------------------------------------------------------\u001b[0m",
      "\u001b[0;31mTypeError\u001b[0m                                 Traceback (most recent call last)",
      "\u001b[0;32m<ipython-input-25-a7983514c89f>\u001b[0m in \u001b[0;36m<module>\u001b[0;34m\u001b[0m\n\u001b[1;32m     11\u001b[0m \u001b[0;34m\u001b[0m\u001b[0m\n\u001b[1;32m     12\u001b[0m \u001b[0;34m\u001b[0m\u001b[0m\n\u001b[0;32m---> 13\u001b[0;31m \u001b[0ms\u001b[0m \u001b[0;34m=\u001b[0m \u001b[0mStudent\u001b[0m\u001b[0;34m(\u001b[0m\u001b[0;34m)\u001b[0m\u001b[0;34m\u001b[0m\u001b[0;34m\u001b[0m\u001b[0m\n\u001b[0m\u001b[1;32m     14\u001b[0m \u001b[0ms\u001b[0m\u001b[0;34m.\u001b[0m\u001b[0mprint_student_details\u001b[0m\u001b[0;34m(\u001b[0m\u001b[0;34m)\u001b[0m\u001b[0;34m\u001b[0m\u001b[0;34m\u001b[0m\u001b[0m\n",
      "\u001b[0;31mTypeError\u001b[0m: __init__() missing 2 required positional arguments: 'name' and 'age'"
     ]
    }
   ],
   "source": [
    "# predict the output\n",
    "class Student:\n",
    "\n",
    "    def __init__(self,name,age):\n",
    "        self.name = \"Rohan\"\n",
    "        self.age = 20\n",
    "\n",
    "    def print_student_details():\n",
    "        print(self.name, end= \" \")\n",
    "        print(self.age)\n",
    "\n",
    "\n",
    "s = Student()\n",
    "s.print_student_details()"
   ]
  },
  {
   "cell_type": "code",
   "execution_count": 29,
   "metadata": {},
   "outputs": [
    {
     "ename": "TypeError",
     "evalue": "print_student_details() takes 0 positional arguments but 1 was given",
     "output_type": "error",
     "traceback": [
      "\u001b[0;31m---------------------------------------------------------------------------\u001b[0m",
      "\u001b[0;31mTypeError\u001b[0m                                 Traceback (most recent call last)",
      "\u001b[0;32m<ipython-input-29-a31266de3896>\u001b[0m in \u001b[0;36m<module>\u001b[0;34m\u001b[0m\n\u001b[1;32m     10\u001b[0m         \u001b[0mprint\u001b[0m\u001b[0;34m(\u001b[0m\u001b[0mself\u001b[0m\u001b[0;34m.\u001b[0m\u001b[0mage\u001b[0m\u001b[0;34m)\u001b[0m\u001b[0;34m\u001b[0m\u001b[0;34m\u001b[0m\u001b[0m\n\u001b[1;32m     11\u001b[0m \u001b[0ms\u001b[0m \u001b[0;34m=\u001b[0m \u001b[0mStudent\u001b[0m\u001b[0;34m(\u001b[0m\u001b[0;34m\"Parikh\"\u001b[0m\u001b[0;34m,\u001b[0m\u001b[0;36m25\u001b[0m\u001b[0;34m)\u001b[0m\u001b[0;34m\u001b[0m\u001b[0;34m\u001b[0m\u001b[0m\n\u001b[0;32m---> 12\u001b[0;31m \u001b[0ms\u001b[0m\u001b[0;34m.\u001b[0m\u001b[0mprint_student_details\u001b[0m\u001b[0;34m(\u001b[0m\u001b[0;34m)\u001b[0m\u001b[0;34m\u001b[0m\u001b[0;34m\u001b[0m\u001b[0m\n\u001b[0m",
      "\u001b[0;31mTypeError\u001b[0m: print_student_details() takes 0 positional arguments but 1 was given"
     ]
    }
   ],
   "source": [
    "# predict the output\n",
    "\n",
    "class Student:\n",
    "    def __init__(self,name,age):\n",
    "        self.name = \"Rohan\"\n",
    "        self.age = 20\n",
    "\n",
    "    def print_student_details():\n",
    "        print(self.name, end= \" \")\n",
    "        print(self.age)\n",
    "s = Student(\"Parikh\",25)\n",
    "s.print_student_details()"
   ]
  },
  {
   "cell_type": "code",
   "execution_count": 31,
   "metadata": {},
   "outputs": [
    {
     "name": "stdout",
     "output_type": "stream",
     "text": [
      "Rohan 60\n"
     ]
    }
   ],
   "source": [
    "# predict the output\n",
    "\n",
    "class Student:\n",
    "    def __init__(self,name,age):\n",
    "        self.name = name\n",
    "        self.age = age\n",
    "    def print_student_details(self):\n",
    "        print(self.name, end= \" \")\n",
    "        print(self.age)\n",
    "\n",
    "s = Student(\"Rohan\",60)\n",
    "s.print_student_details()"
   ]
  },
  {
   "cell_type": "markdown",
   "metadata": {},
   "source": [
    "# class methods"
   ]
  },
  {
   "cell_type": "raw",
   "metadata": {},
   "source": [
    "we will be returning the object of the class, also known as facotory methods. they are \n",
    "different as compared to static methods, it takes first argument as class, \n"
   ]
  },
  {
   "cell_type": "code",
   "execution_count": 32,
   "metadata": {},
   "outputs": [
    {
     "name": "stdout",
     "output_type": "stream",
     "text": [
      "Name =  Parikh\n",
      "Age = 24\n",
      "Percentage =  70\n"
     ]
    }
   ],
   "source": [
    "from datetime import date\n",
    "class Student:\n",
    "\n",
    "\tpassingPercentage = 40\n",
    "\n",
    "\tdef __init__(self,name,age=15,percentage=80):\n",
    "\t\tself.name = name\n",
    "\t\tself.age = age\n",
    "\t\tself.percentage = percentage\n",
    "\n",
    "\t@classmethod\n",
    "\tdef fromBirthYear(cls,name,year,percentage):\n",
    "\t\treturn cls(name,date.today().year - year,percentage)\n",
    "\n",
    "\tdef studentDetails(self):\n",
    "\t\tprint(\"Name = \", self.name)\n",
    "\t\tprint(\"Age =\" , self.age)\n",
    "\t\tprint(\"Percentage = \", self.percentage)\n",
    "\t\t\n",
    "\n",
    "\tdef isPassed(self):\n",
    "\t\tif self.percentage > Student.passingPercentage:\n",
    "\t\t\tprint(\"Student is passed\")\n",
    "\t\telse:\n",
    "\t\t\tprint(\"Student is not passed\")\n",
    "\n",
    "\n",
    "\t@staticmethod\n",
    "\tdef welcomeToSchool():\n",
    "\t\tprint(\"Hey! Welcome To School\")\n",
    "\n",
    "\t@staticmethod\n",
    "\tdef isTeen(age):\n",
    "\t\treturn age>16\n",
    "\n",
    "s1 = Student(\"Parikh\")\n",
    "s1 = Student.fromBirthYear(\"Parikh\",1996,70)\n",
    "s1.studentDetails()\n",
    "# s1.isPassed()\n",
    "# s2 = Student(\"Varun\",26,90)\n",
    "# s1.studentDetails()\n",
    "# s2.studentDetails()\n",
    "# s1.studentDetails()\n",
    "# Student.studentDetails(s1)\n",
    "# s1.isPassed()\n",
    "# s1.welcomeToSchool()\n",
    "\n",
    "\n",
    "#class_name.function(object_name)"
   ]
  },
  {
   "cell_type": "code",
   "execution_count": 33,
   "metadata": {},
   "outputs": [],
   "source": [
    "# predict the output"
   ]
  },
  {
   "cell_type": "code",
   "execution_count": 34,
   "metadata": {},
   "outputs": [
    {
     "name": "stdout",
     "output_type": "stream",
     "text": [
      "True\n"
     ]
    }
   ],
   "source": [
    "class Student:\n",
    "    def __init__(self,name,age):\n",
    "        self.name = name\n",
    "        self.age = age\n",
    "    def print_student_details():\n",
    "        print(self.name, end= \" \")\n",
    "        print(self.age)\n",
    "\n",
    "    @staticmethod\n",
    "    def isTeen(age):\n",
    "        return age>16\n",
    "\n",
    "a = Student.isTeen(18)\n",
    "print(a)\n"
   ]
  },
  {
   "cell_type": "markdown",
   "metadata": {},
   "source": [
    "# public and private access Modifier"
   ]
  },
  {
   "cell_type": "raw",
   "metadata": {},
   "source": [
    "private variables are initlized to __name like type, similarly in case of function we \n",
    "have to write __functinName before that. we can  access private finction/variabels within\n",
    "the class not outiside the class.\n",
    "But we have a concept of NameMangling where we can access outside the function, but this \n",
    "should never be tried by the developers>"
   ]
  },
  {
   "cell_type": "code",
   "execution_count": 35,
   "metadata": {},
   "outputs": [
    {
     "name": "stdout",
     "output_type": "stream",
     "text": [
      "40\n",
      "Name =  Parikh\n",
      "Age = 20\n",
      "Percentage =  80\n"
     ]
    }
   ],
   "source": [
    "class Student:\n",
    "\n",
    "\t__passingPercentage = 40\n",
    "\n",
    "\tdef __init__(self,name,age=15,percentage=80):\n",
    "\t\tself.__name = name\n",
    "\t\tself.age = age\n",
    "\t\tself.percentage = percentage\n",
    "\n",
    "\tdef studentDetails(self):\n",
    "\t\tprint(\"Name = \", self.__name)\n",
    "\t\tprint(\"Age =\" , self.age)\n",
    "\t\tprint(\"Percentage = \", self.percentage)\n",
    "\t\t\n",
    "\n",
    "\tdef isPassed(self):\n",
    "\t\tif self.percentage > Student.passingPercentage:\n",
    "\t\t\tprint(\"Student is passed\")\n",
    "\t\telse:\n",
    "\t\t\tprint(\"Student is not passed\")\n",
    "\n",
    "\t@staticmethod\n",
    "\tdef welcomeToSchool():\n",
    "\t\tprint(\"Hey! Welcome To School\")\n",
    "\n",
    "s1 = Student(\"Parikh\")\n",
    "#print(s1.__name)\n",
    "#print(s1.age)\n",
    "s1.age = 20\n",
    "print(Student._Student__passingPercentage)\n",
    "s1.studentDetails()\n",
    "# s1.name = \"Ankush\"\n",
    "# s1.age = 20\n",
    "# print(s1.name)\n",
    "# print(s1.age)\n",
    "#s1.studentDetails()\n",
    "# s1.isPassed()\n",
    "# s2 = Student(\"Varun\",26,90)\n",
    "# s1.studentDetails()\n",
    "# s2.studentDetails()\n",
    "# s1.studentDetails()\n",
    "# Student.studentDetails(s1)\n",
    "# s1.isPassed()\n",
    "# s1.welcomeToSchool()\n",
    "\n",
    "\n",
    "#class_name.function(object_name)"
   ]
  },
  {
   "cell_type": "code",
   "execution_count": 39,
   "metadata": {},
   "outputs": [
    {
     "ename": "AttributeError",
     "evalue": "'Student' object has no attribute 'name'",
     "output_type": "error",
     "traceback": [
      "\u001b[0;31m---------------------------------------------------------------------------\u001b[0m",
      "\u001b[0;31mAttributeError\u001b[0m                            Traceback (most recent call last)",
      "\u001b[0;32m<ipython-input-39-31917cd33c1c>\u001b[0m in \u001b[0;36m<module>\u001b[0;34m\u001b[0m\n\u001b[1;32m     10\u001b[0m \u001b[0;34m\u001b[0m\u001b[0m\n\u001b[1;32m     11\u001b[0m \u001b[0ms\u001b[0m \u001b[0;34m=\u001b[0m \u001b[0mStudent\u001b[0m\u001b[0;34m(\u001b[0m\u001b[0;34m\"Rohan\"\u001b[0m\u001b[0;34m,\u001b[0m\u001b[0;36m20\u001b[0m\u001b[0;34m)\u001b[0m\u001b[0;34m\u001b[0m\u001b[0;34m\u001b[0m\u001b[0m\n\u001b[0;32m---> 12\u001b[0;31m \u001b[0mprint\u001b[0m\u001b[0;34m(\u001b[0m\u001b[0ms\u001b[0m\u001b[0;34m.\u001b[0m\u001b[0mname\u001b[0m\u001b[0;34m)\u001b[0m\u001b[0;34m\u001b[0m\u001b[0;34m\u001b[0m\u001b[0m\n\u001b[0m",
      "\u001b[0;31mAttributeError\u001b[0m: 'Student' object has no attribute 'name'"
     ]
    }
   ],
   "source": [
    "# predict the output\n",
    "\n",
    "class Student:\n",
    "    def __init__(self,name,age):\n",
    "        self.__name = name\n",
    "        self.age = age\n",
    "    def print_student_details():\n",
    "        print(self.__name, end= \" \")\n",
    "        print(self.age)\n",
    "\n",
    "s = Student(\"Rohan\",20)\n",
    "print(s.name)"
   ]
  },
  {
   "cell_type": "code",
   "execution_count": 40,
   "metadata": {},
   "outputs": [
    {
     "name": "stdout",
     "output_type": "stream",
     "text": [
      "Rohan 20\n"
     ]
    }
   ],
   "source": [
    "class Student:\n",
    "    def __init__(self,name,age):\n",
    "        self.__name = name\n",
    "        self.age = age\n",
    "    def print_student_details(self):\n",
    "        print(self.__name, end= \" \")\n",
    "        print(self.age)\n",
    "s = Student(\"Rohan\",20)\n",
    "s.print_student_details()"
   ]
  },
  {
   "cell_type": "code",
   "execution_count": null,
   "metadata": {},
   "outputs": [],
   "source": []
  }
 ],
 "metadata": {
  "kernelspec": {
   "display_name": "Python 3",
   "language": "python",
   "name": "python3"
  },
  "language_info": {
   "codemirror_mode": {
    "name": "ipython",
    "version": 3
   },
   "file_extension": ".py",
   "mimetype": "text/x-python",
   "name": "python",
   "nbconvert_exporter": "python",
   "pygments_lexer": "ipython3",
   "version": "3.7.4"
  }
 },
 "nbformat": 4,
 "nbformat_minor": 2
}
