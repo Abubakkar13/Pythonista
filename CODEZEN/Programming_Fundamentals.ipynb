{
 "cells": [
  {
   "cell_type": "markdown",
   "metadata": {},
   "source": [
    " # Question 1 \n",
    "Write a program to input name (as a single character) and marks of three tests of a student (all integers). Then calculate and print the name and average (integer) of all test marks.\n",
    "All the test marks are integers and calculate average also as integer. That is, you need to print the integer part of average only, neglect the decimal part.\n",
    "\n",
    "Input format :\n",
    "Line 1 : Name (Single character)\n",
    "Line 2 : 3 Test marks (separated by space)\n",
    "\n",
    "Output format :\n",
    "Name Average (in different lines)\n",
    "\n",
    "Sample Input 1 :\n",
    "A\n",
    "3 4 6\n",
    "Sample Output 1 :\n",
    "A\n",
    "4"
   ]
  },
  {
   "cell_type": "code",
   "execution_count": 3,
   "metadata": {},
   "outputs": [
    {
     "name": "stdout",
     "output_type": "stream",
     "text": [
      "Enter namea\n",
      "marks 1: 3\n",
      "marks 2: 4\n",
      "marks 3: 6\n",
      "4\n"
     ]
    }
   ],
   "source": [
    "name = str(input(\"Enter name\"))\n",
    "marks1 = int(input(\"marks 1: \"))\n",
    "marks2 = int(input(\"marks 2: \"))\n",
    "marks3 = int(input(\"marks 3: \"))\n",
    "average = (marks1 + marks2 + marks3) // 3\n",
    "print(average)"
   ]
  },
  {
   "cell_type": "markdown",
   "metadata": {},
   "source": [
    "# Question 2\n",
    "Write a program to determine whether the entered character is in uppercase or lowercase, or is an invalid character.\n",
    "Print\n",
    " 1 for uppercase\n",
    " 0 for lowercase \n",
    "-1 for any other character (special characters or others)"
   ]
  },
  {
   "cell_type": "code",
   "execution_count": 32,
   "metadata": {},
   "outputs": [
    {
     "name": "stdout",
     "output_type": "stream",
     "text": [
      "A\n",
      "1\n"
     ]
    }
   ],
   "source": [
    "character = input()\n",
    "if character == character.upper():\n",
    "    print(1)\n",
    "elif character == character.lower():\n",
    "    print(0)\n",
    "else:\n",
    "    print(\"-1\")\n",
    "\n",
    "# isupper() will return either True of False whereas upper() will get the result    \n",
    "    "
   ]
  },
  {
   "cell_type": "code",
   "execution_count": null,
   "metadata": {},
   "outputs": [],
   "source": []
  },
  {
   "cell_type": "raw",
   "metadata": {},
   "source": [
    "   The above approach will not give -1 so it's not all base case correct:\n",
    "   "
   ]
  },
  {
   "cell_type": "code",
   "execution_count": 25,
   "metadata": {},
   "outputs": [
    {
     "name": "stdout",
     "output_type": "stream",
     "text": [
      "-1\n",
      "-1\n"
     ]
    }
   ],
   "source": [
    "str = input()\n",
    "if ( str >=\"A\" and  str <=\"Z\"):\n",
    "    print(1)\n",
    "elif (str >=\"a\" and str <=\"z\"):\n",
    "    print(0)\n",
    "else:\n",
    "    print(-1)"
   ]
  },
  {
   "cell_type": "markdown",
   "metadata": {},
   "source": [
    "# Question 3\n",
    "Given a number N, print sum of all even numbers from 1 to N."
   ]
  },
  {
   "cell_type": "code",
   "execution_count": 42,
   "metadata": {},
   "outputs": [
    {
     "name": "stdout",
     "output_type": "stream",
     "text": [
      " Please Enter the Maximum Value : 4\n",
      "2\n",
      "4\n",
      "The Sum of Even Numbers from 1 to 4 = 6\n"
     ]
    }
   ],
   "source": [
    "maximum = int(input(\" Please Enter the Maximum Value : \"))\n",
    "total = 0\n",
    "\n",
    "for number in range(1, maximum+1):\n",
    "    if(number % 2 == 0):\n",
    "        print(\"{0}\".format(number))\n",
    "        total = total + number\n",
    "\n",
    "print(\"The Sum of Even Numbers from 1 to {0} = {1}\".format(number, total))     "
   ]
  },
  {
   "cell_type": "code",
   "execution_count": 44,
   "metadata": {},
   "outputs": [
    {
     "name": "stdout",
     "output_type": "stream",
     "text": [
      " Please Enter the Maximum Value : 2\n",
      "2\n",
      "The Sum of Even Numbers from 1 to 2 = 2\n"
     ]
    }
   ],
   "source": [
    "maximum = int(input(\" Please Enter the Maximum Value : \"))\n",
    "total = 0\n",
    "\n",
    "for number in range(2, maximum + 1, 2):\n",
    "    print(\"{0}\".format(number))\n",
    "    total = total + number\n",
    "\n",
    "print(\"The Sum of Even Numbers from 1 to {0} = {1}\".format(number, total))"
   ]
  },
  {
   "cell_type": "code",
   "execution_count": 46,
   "metadata": {},
   "outputs": [
    {
     "name": "stdout",
     "output_type": "stream",
     "text": [
      "6\n",
      "12\n"
     ]
    }
   ],
   "source": [
    "number = int(input())\n",
    "sum =0\n",
    "for i in range(2, number+1,2):\n",
    "    sum = sum + i\n",
    "print(sum)    "
   ]
  },
  {
   "cell_type": "markdown",
   "metadata": {},
   "source": [
    "# Question 4\n",
    "\n",
    "Given three values - Start Fahrenheit Value (S), End Fahrenheit value (E) and Step Size (W), you need to convert all Fahrenheit values from Start to End at the gap of W, into their corresponding Celsius values and print the table."
   ]
  },
  {
   "cell_type": "code",
   "execution_count": 56,
   "metadata": {},
   "outputs": [
    {
     "name": "stdout",
     "output_type": "stream",
     "text": [
      "0\n",
      "100\n",
      "20\n",
      "\n",
      "\n",
      "0   -17\n",
      "20   -6\n",
      "40   4\n",
      "60   15\n",
      "80   26\n"
     ]
    }
   ],
   "source": [
    "# T(°C) = (T(°F) - 32) / 1.8\n",
    "\n",
    "S = int(input())\n",
    "E = int(input())\n",
    "W = int(input())\n",
    "print(\"\\n\")\n",
    "while S <E:\n",
    "    fahToCelcius = int((S - 32) / 1.8)\n",
    "    print(S, \" \" , fahToCelcius)\n",
    "    S = S + W\n",
    "    "
   ]
  },
  {
   "cell_type": "code",
   "execution_count": 51,
   "metadata": {},
   "outputs": [
    {
     "name": "stdout",
     "output_type": "stream",
     "text": [
      "-10\n",
      "-23.333333333333332\n"
     ]
    }
   ],
   "source": []
  },
  {
   "cell_type": "code",
   "execution_count": null,
   "metadata": {},
   "outputs": [],
   "source": []
  }
 ],
 "metadata": {
  "kernelspec": {
   "display_name": "Python 3",
   "language": "python",
   "name": "python3"
  },
  "language_info": {
   "codemirror_mode": {
    "name": "ipython",
    "version": 3
   },
   "file_extension": ".py",
   "mimetype": "text/x-python",
   "name": "python",
   "nbconvert_exporter": "python",
   "pygments_lexer": "ipython3",
   "version": "3.7.4"
  }
 },
 "nbformat": 4,
 "nbformat_minor": 2
}
