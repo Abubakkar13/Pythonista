{
 "cells": [
  {
   "cell_type": "code",
   "execution_count": null,
   "metadata": {},
   "outputs": [],
   "source": [
    "class Stack:\n",
    "    def __init__(self):\n",
    "        self.__data = [] # define an empty list called data and making it private so\n",
    "                         # that it cannot be accesses outside\n",
    "   # implementing stack operations\n",
    "        def push(self,item):\n",
    "            self.__data.append(item)\n",
    "           \n",
    "        \n",
    "        \n",
    "        def pop(self):\n",
    "            self.__data.pop()\n",
    "            \n",
    "        def peek(self):\n",
    "            self.__data.peek()\n",
    "            \n",
    "            \n",
    "        def isempty(self):\n",
    "            self.__data.isempty()\n",
    "            \n",
    "            \n",
    "        def size(self):\n",
    "            self.__data.size()"
   ]
  }
 ],
 "metadata": {
  "kernelspec": {
   "display_name": "Python 3",
   "language": "python",
   "name": "python3"
  },
  "language_info": {
   "codemirror_mode": {
    "name": "ipython",
    "version": 3
   },
   "file_extension": ".py",
   "mimetype": "text/x-python",
   "name": "python",
   "nbconvert_exporter": "python",
   "pygments_lexer": "ipython3",
   "version": "3.7.4"
  }
 },
 "nbformat": 4,
 "nbformat_minor": 4
}
