{
 "cells": [
  {
   "cell_type": "raw",
   "metadata": {},
   "source": [
    "Implementing Stack using Array\n"
   ]
  },
  {
   "cell_type": "code",
   "execution_count": 37,
   "metadata": {},
   "outputs": [],
   "source": [
    "class Stack:\n",
    "    def __init__(self):\n",
    "        self.__data = [] # define an empty list called data and making it private so\n",
    "                         # that it cannot be accesses outside\n",
    "   # implementing stack operations\n",
    "    def push(self,item):\n",
    "        self.__data.append(item)\n",
    "           \n",
    "        \n",
    "        \n",
    "    def pop(self):\n",
    "            if self.isEmpty():\n",
    "                print(\"Stack is Empty Error\")\n",
    "                return \n",
    "            return    self.__data.pop()\n",
    "            \n",
    "    def top(self):\n",
    "            if self.isEmpty():\n",
    "                print(\"Stack is Empty\")\n",
    "                return \n",
    "            return   sel.__data[(self.__data)-1]\n",
    "            \n",
    "            \n",
    "    def isEmpty(self):\n",
    "            return  self.size() ==0\n",
    "            \n",
    "            \n",
    "    def size(self):\n",
    "            return len(self.__data)"
   ]
  },
  {
   "cell_type": "code",
   "execution_count": 38,
   "metadata": {},
   "outputs": [
    {
     "name": "stdout",
     "output_type": "stream",
     "text": [
      "4\n",
      "3\n",
      "2\n",
      "1\n",
      "0\n"
     ]
    }
   ],
   "source": [
    "s = Stack()\n",
    "for i in range(5):  # Pushing values in\n",
    "    s.push(i)\n",
    "while s.isEmpty() is False:\n",
    "    print(s.pop())\n"
   ]
  },
  {
   "cell_type": "markdown",
   "metadata": {},
   "source": [
    "## using inbuilt stack and Queue"
   ]
  },
  {
   "cell_type": "code",
   "execution_count": 40,
   "metadata": {},
   "outputs": [
    {
     "name": "stdout",
     "output_type": "stream",
     "text": [
      "[1, 2, 3, 4, 5, 6]\n"
     ]
    }
   ],
   "source": [
    "# for inbuilt stack we can use list\n",
    "s = [1,2,3,4,5]\n",
    "s.append(6)\n",
    "print(s)\n"
   ]
  },
  {
   "cell_type": "code",
   "execution_count": 42,
   "metadata": {},
   "outputs": [
    {
     "name": "stdout",
     "output_type": "stream",
     "text": [
      "6\n"
     ]
    }
   ],
   "source": [
    "print(s.pop())"
   ]
  },
  {
   "cell_type": "markdown",
   "metadata": {},
   "source": [
    "### For queue we cannot use list, we can but that will not be efficent because while\n",
    "### shifting elements it will cost us O(n) operations"
   ]
  },
  {
   "cell_type": "raw",
   "metadata": {},
   "source": [
    "From python 3 onwards we have a inbuilt library called queue\n"
   ]
  },
  {
   "cell_type": "code",
   "execution_count": 43,
   "metadata": {},
   "outputs": [
    {
     "name": "stdout",
     "output_type": "stream",
     "text": [
      "1\n",
      "2\n",
      "3\n",
      "4\n"
     ]
    }
   ],
   "source": [
    "import queue\n",
    "q = queue.Queue()\n",
    "# enquing the elements\n",
    "q.put(1)\n",
    "q.put(2)\n",
    "q.put(3)\n",
    "q.put(4)\n",
    "while not q.empty():\n",
    "    print(q.get()) # since it is a fifo stucture\n",
    "    \n",
    "# we have funcitonality as put get empty()    "
   ]
  },
  {
   "cell_type": "code",
   "execution_count": 45,
   "metadata": {},
   "outputs": [
    {
     "name": "stdout",
     "output_type": "stream",
     "text": [
      "8\n",
      "7\n",
      "4\n",
      "1\n"
     ]
    }
   ],
   "source": [
    "## we can implement stack in queue also , we have a inbuilt stack in Queue called LifoQueue\n",
    "\n",
    "import queue\n",
    "Q = queue.LifoQueue()\n",
    "Q.put(1)\n",
    "Q.put(4)\n",
    "Q.put(7)\n",
    "Q.put(8)\n",
    "while not Q.empty():\n",
    "    print(Q.get())"
   ]
  },
  {
   "cell_type": "markdown",
   "metadata": {},
   "source": [
    "## Balanced Paranthesis"
   ]
  },
  {
   "cell_type": "code",
   "execution_count": 22,
   "metadata": {},
   "outputs": [
    {
     "name": "stdout",
     "output_type": "stream",
     "text": [
      "(a+b)\n",
      "True\n"
     ]
    }
   ],
   "source": [
    "# step 2 defining isBalanced Function\n",
    "def isBalanced(string):\n",
    "     s =[] # maintain a stack\n",
    "        \n",
    "    # iterate over each character in the string\n",
    "    \n",
    "     for char in string:\n",
    "        if char in '{[(':\n",
    "            s.append(char)\n",
    "            \n",
    "        elif char is ')':\n",
    "            # where not s is stack is empty and s[-1] is last elemnt doesnot match ot\n",
    "            # or stack is not empty the order should be matched else we get index out \n",
    "            # of bound\n",
    "            if (not s or s[-1] !='('):\n",
    "                return False\n",
    "            s.pop()\n",
    "            \n",
    "        elif char is ']':\n",
    "            if (not s or s[-1] !='['):\n",
    "                return False\n",
    "            s.pop()\n",
    "            \n",
    "        elif char is '}':\n",
    "            if (not s or s[-1] != '{'):\n",
    "                return False\n",
    "            s.pop()\n",
    "     \n",
    "   # after checking each character in a string we need to have stack should be empty\n",
    "\n",
    "     if (not s):\n",
    "        return True\n",
    "     else:\n",
    "        return False\n",
    "            \n",
    "\n",
    "# step1\n",
    "string = input() # take a string and put parenthesis\n",
    "ans = isBalanced(string)\n",
    "print(ans)"
   ]
  },
  {
   "cell_type": "markdown",
   "metadata": {},
   "source": [
    "# Redundant Brackets"
   ]
  },
  {
   "cell_type": "markdown",
   "metadata": {},
   "source": [
    "Brackets are redundant if there is nothing inside the bracket or more than one pair of brackets are present.\n",
    "(a+b) is not redundant, because they have some useful information between them\n",
    "((a+b)), yes it is redundant, outer pair is not neccessary because inner pair alone\n",
    "will be suffice.\n",
    "( a + (b+c)) is also not redundant"
   ]
  },
  {
   "cell_type": "code",
   "execution_count": 25,
   "metadata": {},
   "outputs": [
    {
     "name": "stdout",
     "output_type": "stream",
     "text": [
      "(a+b) * ((c+d))\n",
      "1\n"
     ]
    }
   ],
   "source": [
    "def isRedundant(string):\n",
    "    stack = []\n",
    "    operators = {\"+\", \"-\", \"*\", \"/\"}\n",
    "    for char in string:\n",
    "            if char == \"(\":  # push current bracket to the stack\n",
    "                stack.append(False)  # since we don't know yet if there's an operator\n",
    "            elif char in operators:\n",
    "                if not stack:  # no brackets on the stack, just skip it\n",
    "                    continue\n",
    "                stack[-1] = True  # found an operator, so last brackets on the stack are valid\n",
    "            elif char == \")\":\n",
    "                if stack[-1]:  # if the last brackets are valid\n",
    "                    stack.pop()  # take them off the stack\n",
    "                else:  # last brackets didn't have an operator inside\n",
    "                    return 1\n",
    "    return 0\n",
    "\n",
    "\n",
    "\n",
    "string = input()\n",
    "ans = isRedundant(string)\n",
    "print(ans)"
   ]
  },
  {
   "cell_type": "markdown",
   "metadata": {},
   "source": []
  },
  {
   "cell_type": "code",
   "execution_count": null,
   "metadata": {},
   "outputs": [],
   "source": []
  }
 ],
 "metadata": {
  "kernelspec": {
   "display_name": "Python 3",
   "language": "python",
   "name": "python3"
  },
  "language_info": {
   "codemirror_mode": {
    "name": "ipython",
    "version": 3
   },
   "file_extension": ".py",
   "mimetype": "text/x-python",
   "name": "python",
   "nbconvert_exporter": "python",
   "pygments_lexer": "ipython3",
   "version": "3.7.4"
  }
 },
 "nbformat": 4,
 "nbformat_minor": 4
}
