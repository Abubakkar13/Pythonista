{
 "cells": [
  {
   "cell_type": "raw",
   "metadata": {},
   "source": [
    "Implementing Stack using Array\n"
   ]
  },
  {
   "cell_type": "code",
   "execution_count": 37,
   "metadata": {},
   "outputs": [],
   "source": [
    "class Stack:\n",
    "    def __init__(self):\n",
    "        self.__data = [] # define an empty list called data and making it private so\n",
    "                         # that it cannot be accesses outside\n",
    "   # implementing stack operations\n",
    "    def push(self,item):\n",
    "        self.__data.append(item)\n",
    "           \n",
    "        \n",
    "        \n",
    "    def pop(self):\n",
    "            if self.isEmpty():\n",
    "                print(\"Stack is Empty Error\")\n",
    "                return \n",
    "            return    self.__data.pop()\n",
    "            \n",
    "    def top(self):\n",
    "            if self.isEmpty():\n",
    "                print(\"Stack is Empty\")\n",
    "                return \n",
    "            return   sel.__data[(self.__data)-1]\n",
    "            \n",
    "            \n",
    "    def isEmpty(self):\n",
    "            return  self.size() ==0\n",
    "            \n",
    "            \n",
    "    def size(self):\n",
    "            return len(self.__data)"
   ]
  },
  {
   "cell_type": "code",
   "execution_count": 38,
   "metadata": {},
   "outputs": [
    {
     "name": "stdout",
     "output_type": "stream",
     "text": [
      "4\n",
      "3\n",
      "2\n",
      "1\n",
      "0\n"
     ]
    }
   ],
   "source": [
    "s = Stack()\n",
    "for i in range(5):  # Pushing values in\n",
    "    s.push(i)\n",
    "while s.isEmpty() is False:\n",
    "    print(s.pop())\n"
   ]
  },
  {
   "cell_type": "markdown",
   "metadata": {},
   "source": [
    "## using inbuilt stack and Queue"
   ]
  },
  {
   "cell_type": "code",
   "execution_count": 40,
   "metadata": {},
   "outputs": [
    {
     "name": "stdout",
     "output_type": "stream",
     "text": [
      "[1, 2, 3, 4, 5, 6]\n"
     ]
    }
   ],
   "source": [
    "# for inbuilt stack we can use list\n",
    "s = [1,2,3,4,5]\n",
    "s.append(6)\n",
    "print(s)\n"
   ]
  },
  {
   "cell_type": "code",
   "execution_count": 42,
   "metadata": {},
   "outputs": [
    {
     "name": "stdout",
     "output_type": "stream",
     "text": [
      "6\n"
     ]
    }
   ],
   "source": [
    "print(s.pop())"
   ]
  },
  {
   "cell_type": "markdown",
   "metadata": {},
   "source": [
    "### For queue we cannot use list, we can but that will not be efficent because while\n",
    "### shifting elements it will cost us O(n) operations"
   ]
  },
  {
   "cell_type": "raw",
   "metadata": {},
   "source": [
    "From python 3 onwards we have a inbuilt library called queue\n"
   ]
  },
  {
   "cell_type": "code",
   "execution_count": 43,
   "metadata": {},
   "outputs": [
    {
     "name": "stdout",
     "output_type": "stream",
     "text": [
      "1\n",
      "2\n",
      "3\n",
      "4\n"
     ]
    }
   ],
   "source": [
    "import queue\n",
    "q = queue.Queue()\n",
    "# enquing the elements\n",
    "q.put(1)\n",
    "q.put(2)\n",
    "q.put(3)\n",
    "q.put(4)\n",
    "while not q.empty():\n",
    "    print(q.get()) # since it is a fifo stucture\n",
    "    \n",
    "# we have funcitonality as put get empty()    "
   ]
  },
  {
   "cell_type": "code",
   "execution_count": 45,
   "metadata": {},
   "outputs": [
    {
     "name": "stdout",
     "output_type": "stream",
     "text": [
      "8\n",
      "7\n",
      "4\n",
      "1\n"
     ]
    }
   ],
   "source": [
    "## we can implement stack in queue also , we have a inbuilt stack in Queue called LifoQueue\n",
    "\n",
    "import queue\n",
    "Q = queue.LifoQueue()\n",
    "Q.put(1)\n",
    "Q.put(4)\n",
    "Q.put(7)\n",
    "Q.put(8)\n",
    "while not Q.empty():\n",
    "    print(Q.get())"
   ]
  },
  {
   "cell_type": "code",
   "execution_count": null,
   "metadata": {},
   "outputs": [],
   "source": []
  }
 ],
 "metadata": {
  "kernelspec": {
   "display_name": "Python 3",
   "language": "python",
   "name": "python3"
  },
  "language_info": {
   "codemirror_mode": {
    "name": "ipython",
    "version": 3
   },
   "file_extension": ".py",
   "mimetype": "text/x-python",
   "name": "python",
   "nbconvert_exporter": "python",
   "pygments_lexer": "ipython3",
   "version": "3.7.4"
  }
 },
 "nbformat": 4,
 "nbformat_minor": 4
}
