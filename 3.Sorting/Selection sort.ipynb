{
 "cells": [
  {
   "cell_type": "code",
   "execution_count": 24,
   "metadata": {},
   "outputs": [
    {
     "name": "stdout",
     "output_type": "stream",
     "text": [
      "[1, 2, 3, 4, 5, 6, 7, 12, 32]\n"
     ]
    }
   ],
   "source": [
    "# 2nd part\n",
    "def selectionsort(arr):\n",
    "    length = len(arr)\n",
    "    # put the correct  element in the ith positon\n",
    "    for i in range(0,length-1):\n",
    "        minindex =i\n",
    "        # calculating the index of the minimum element\n",
    "        for j in range(i+1,length):\n",
    "            if(arr[j] < arr[minindex]):\n",
    "                minindex = j\n",
    "        arr[i],arr[minindex] =arr[minindex],arr[i]        \n",
    "            \n",
    "            \n",
    "\n",
    "\n",
    "\n",
    "\n",
    "\n",
    "\n",
    "# 1st part\n",
    "arr=[4,2,1,5,12,3,6,32,7]\n",
    "selectionsort(arr)\n",
    "print(arr)"
   ]
  },
  {
   "cell_type": "code",
   "execution_count": null,
   "metadata": {},
   "outputs": [],
   "source": []
  }
 ],
 "metadata": {
  "kernelspec": {
   "display_name": "Python 3",
   "language": "python",
   "name": "python3"
  },
  "language_info": {
   "codemirror_mode": {
    "name": "ipython",
    "version": 3
   },
   "file_extension": ".py",
   "mimetype": "text/x-python",
   "name": "python",
   "nbconvert_exporter": "python",
   "pygments_lexer": "ipython3",
   "version": "3.7.4"
  }
 },
 "nbformat": 4,
 "nbformat_minor": 4
}
