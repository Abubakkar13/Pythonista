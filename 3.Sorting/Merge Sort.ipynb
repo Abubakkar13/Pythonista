{
 "cells": [
  {
   "cell_type": "code",
   "execution_count": 3,
   "metadata": {},
   "outputs": [],
   "source": [
    "def merge(a1,a2,a):\n",
    "    i=0\n",
    "    j=0\n",
    "    k=0\n",
    "    while i < len(a1) and j < len(a2):\n",
    "        if (a1[i] < a2[j]):\n",
    "            a[k] =a1[i]\n",
    "            i = i +1\n",
    "            k = k +1\n",
    "        else:\n",
    "            a[k] =a2[j]\n",
    "            j = j+1\n",
    "            k = k +1\n",
    "            \n",
    "    while i < len(a1):\n",
    "        a[k] = a1[i]\n",
    "        i = i +1\n",
    "        k = k +1\n",
    "    while j < len(a2):\n",
    "        a[k] = a2[j]\n",
    "        j = j +1\n",
    "        k = k + 1"
   ]
  },
  {
   "cell_type": "code",
   "execution_count": 4,
   "metadata": {},
   "outputs": [],
   "source": [
    "def mergesort(a):\n",
    "    # Base case\n",
    "    if len(a) == 0 or len(a) ==1:\n",
    "        return\n",
    "    mid = len(a)//2\n",
    "    a1 = a[0:mid]\n",
    "    a2 = a[mid:]\n",
    "    \n",
    "    \n",
    "    mergesort(a1)\n",
    "    mergesort(a2)\n",
    "    \n",
    "    merge(a1,a2,a)\n",
    "    \n",
    "    \n",
    "    "
   ]
  },
  {
   "cell_type": "code",
   "execution_count": 8,
   "metadata": {},
   "outputs": [
    {
     "name": "stdout",
     "output_type": "stream",
     "text": [
      "[1, 2, 3, 5, 7, 9, 10]\n"
     ]
    }
   ],
   "source": [
    "a=[10,9,5,3,7,2,1]\n",
    "mergesort(a)\n",
    "print(a)"
   ]
  },
  {
   "cell_type": "raw",
   "metadata": {},
   "source": []
  },
  {
   "cell_type": "code",
   "execution_count": null,
   "metadata": {},
   "outputs": [],
   "source": []
  }
 ],
 "metadata": {
  "kernelspec": {
   "display_name": "Python 3",
   "language": "python",
   "name": "python3"
  },
  "language_info": {
   "codemirror_mode": {
    "name": "ipython",
    "version": 3
   },
   "file_extension": ".py",
   "mimetype": "text/x-python",
   "name": "python",
   "nbconvert_exporter": "python",
   "pygments_lexer": "ipython3",
   "version": "3.7.4"
  }
 },
 "nbformat": 4,
 "nbformat_minor": 4
}
